{
 "cells": [
  {
   "cell_type": "code",
   "execution_count": 16,
   "source": [
    "Red = (\"a\")\r\n",
    "Yellow = (\"b\")\r\n",
    "Blue = (\"c\")\r\n",
    "\r\n",
    "\r\n",
    "Choice1= input(\"please pick your first colour\")\r\n",
    "Choice2= input(\"please pick your second colour\")\r\n",
    "\r\n",
    "if (Choice1 == Red and Choice2 == Yellow) or  (Choice1 == Yellow and Choice2 == Red):\r\n",
    "    print (\"You have mixed orange\")\r\n",
    "elif (Choice1 == Yellow and Choice2 == Blue) or  (Choice1 == Blue and Choice2 == Yellow):\r\n",
    "    print (\"You have mixed Green\")\r\n",
    "elif (Choice1 == Red and Choice2 == Blue) or  (Choice1 == Blue and Choice2 == Red):\r\n",
    "    print (\"You have mixed purple\")"
   ],
   "outputs": [
    {
     "output_type": "stream",
     "name": "stdout",
     "text": [
      "You have mixed purple\n"
     ]
    }
   ],
   "metadata": {}
  }
 ],
 "metadata": {
  "orig_nbformat": 4,
  "language_info": {
   "name": "python",
   "version": "3.9.7",
   "mimetype": "text/x-python",
   "codemirror_mode": {
    "name": "ipython",
    "version": 3
   },
   "pygments_lexer": "ipython3",
   "nbconvert_exporter": "python",
   "file_extension": ".py"
  },
  "kernelspec": {
   "name": "python3",
   "display_name": "Python 3.9.7 64-bit"
  },
  "interpreter": {
   "hash": "afa409831466df0854d50cb698ae4ee7319aa1e2cf1de67df4dad57674eaa065"
  }
 },
 "nbformat": 4,
 "nbformat_minor": 2
}
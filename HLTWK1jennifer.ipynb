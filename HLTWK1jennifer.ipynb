{
 "cells": [
  {
   "cell_type": "markdown",
   "source": [
    "P1 TASK 1"
   ],
   "metadata": {}
  },
  {
   "cell_type": "code",
   "execution_count": 31,
   "source": [
    "import random\r\n",
    "RandomNumber = random.randint(1,10)\r\n",
    "# print (\"The random number is:\", RandomNumber)\r\n",
    "print (\"Hello, what is your name?\")\r\n",
    "UserName = input(\"Hello, what is your name?\")\r\n",
    "print (UserName)\r\n",
    "print (\"Can you guess the randomly generated number between 1 and 10?\")\r\n",
    "UserGuess =  input(\"Can you guess the randomly generated number between 1 and 10?\")\r\n",
    "print (UserGuess)\r\n",
    "if UserGuess  == RandomNumber:\r\n",
    "\r\n",
    "    print (\"well done! you have guessed correctly\")\r\n",
    "elif  UserGuess != RandomNumber :\r\n",
    "\r\n",
    "    print (\"Sorry, you guessed incorrectly!\")\r\n"
   ],
   "outputs": [
    {
     "output_type": "stream",
     "name": "stdout",
     "text": [
      "Hello, what is your name?\n",
      "Jennifer\n",
      "Can you guess the randomly generated number between 1 and 10?\n",
      "8\n",
      "Sorry, you guessed incorrect\n"
     ]
    }
   ],
   "metadata": {}
  },
  {
   "cell_type": "markdown",
   "source": [
    "P1 TASK 2"
   ],
   "metadata": {}
  },
  {
   "cell_type": "code",
   "execution_count": 27,
   "source": [
    "\r\n",
    "print (\"What is your favourite number between 1-100?\")\r\n",
    "\r\n",
    "FavNo = int(input(\"What is your favourite number between 1-100?\"))\r\n",
    "\r\n",
    "print (\"My favourite number is\", FavNo)\r\n",
    "\r\n",
    "if FavNo <30:  \r\n",
    "    print (\"There are two kinds of data scientists 1) those who can extrapolate from incomplete data\")\r\n",
    "\r\n",
    "elif FavNo <60:\r\n",
    "    print (\"There are 10 kinds of people in the world, those that understand binary and those who don't\")\r\n",
    "\r\n",
    "elif FavNo <100:\r\n",
    "    print (\"Why should you take a data scientist into the jungle?  They'll solve all your python problems\")\r\n",
    "\r\n",
    "elif FavNo >100:\r\n",
    "    print (\"Incorrect number\")\r\n",
    "\r\n"
   ],
   "outputs": [
    {
     "output_type": "stream",
     "name": "stdout",
     "text": [
      "What is your favourite number between 1-100?\n",
      "My favourite number is 86\n",
      "Why should you take a data scientist into the jungle?  They'll solve all your python problems\n"
     ]
    }
   ],
   "metadata": {}
  },
  {
   "cell_type": "markdown",
   "source": [
    "P1 TASK 3"
   ],
   "metadata": {}
  },
  {
   "cell_type": "code",
   "execution_count": 35,
   "source": [
    "FavStarter = input(\"What is your favourite starter?\")\r\n",
    "FavMain = input(\"What is your favourite main?\")\r\n",
    "FavDes = input(\"What is your favourite dessert?\")\r\n",
    "FavDrink = input(\"What is your favourite drink?\")\r\n",
    "\r\n",
    "print (\"Your favourite meal is a a starter of\", FavStarter,  \"to go with\",  FavMain, \"and finsih with\",  FavDes, \"alongside a glass of\",  FavDrink+\".\")\r\n"
   ],
   "outputs": [
    {
     "output_type": "stream",
     "name": "stdout",
     "text": [
      "Your favourite meal is a a starter of calamari to go with fish pie and finsih with brownie alongside a glass of gin.\n"
     ]
    }
   ],
   "metadata": {}
  },
  {
   "cell_type": "markdown",
   "source": [
    "P1 TASK 4"
   ],
   "metadata": {}
  },
  {
   "cell_type": "code",
   "execution_count": 21,
   "source": [
    "MotorbikeNew = int(2000)\r\n",
    "Depreciation = (0.9)\r\n",
    "year = int(1)\r\n",
    "while MotorbikeNew>1000:\r\n",
    "    print (\"The price of motorbike in year \", year, \"£\", MotorbikeNew)\r\n",
    "    MotorbikeNew = MotorbikeNew*Depreciation\r\n",
    "    year = year+1"
   ],
   "outputs": [
    {
     "output_type": "stream",
     "name": "stdout",
     "text": [
      "The price of motorbike in year  1 £ 2000\n",
      "The price of motorbike in year  2 £ 1800.0\n",
      "The price of motorbike in year  3 £ 1620.0\n",
      "The price of motorbike in year  4 £ 1458.0\n",
      "The price of motorbike in year  5 £ 1312.2\n",
      "The price of motorbike in year  6 £ 1180.98\n",
      "The price of motorbike in year  7 £ 1062.882\n"
     ]
    }
   ],
   "metadata": {}
  },
  {
   "cell_type": "markdown",
   "source": [
    "P1 TASK 5"
   ],
   "metadata": {}
  },
  {
   "cell_type": "code",
   "execution_count": null,
   "source": [
    "print (\"a Addition\")\r\n",
    "print (\"b Subtraction\")\r\n",
    "print (\"c Multiplication\")\r\n",
    "print (\"d Division\")\r\n",
    "print (\"e raising to the power of\")\r\n",
    "\r\n",
    "choice = input(\"Please enter your choice of operator: \")\r\n",
    "\r\n",
    "num1 = float(input(\"Enter Number 1 : \"))\r\n",
    "num2 = float(input(\"Enter Number 2 : \"))\r\n",
    "\r\n",
    "if choice == \"a\":\r\n",
    "    print(num1, \"+\", num2, \"=\", (num1+num2))\r\n",
    "elif choice == \"b\":\r\n",
    "    print(num1, \"-\", num2,\"=\", (num1-num2))\r\n",
    "elif choice == \"c\":\r\n",
    "    print(num1, \"*\", num2,\"=\", (num1*num2))\r\n",
    "elif choice == \"d\":\r\n",
    "    if Num2 == 0.0:\r\n",
    "        print (\"0 is not a valid opertion\")\r\n",
    "    else: \r\n",
    "        print(num1, \"/\", num2,\"=\", (num1/num2))\r\n",
    "elif choice == \"e\":\r\n",
    "    print(num1, \"**\", num2,\"=\", (num1**num2))\r\n",
    "else:\r\n",
    "    print (\"Error\")"
   ],
   "outputs": [],
   "metadata": {}
  },
  {
   "cell_type": "code",
   "execution_count": 59,
   "source": [
    "No1 = int(input(\"Please pick your first number: \"))\r\n",
    "No2 = int(input(\"Please pick your second number: \"))\r\n",
    "Operation = input('''\r\n",
    "Please choose an operator: \r\n",
    "a  for addition\r\n",
    "b  for subtraction\r\n",
    "c  for multiplication\r\n",
    "d  for division\r\n",
    "e for raising to the power of\r\n",
    "''')\r\n",
    "if Operation == \"a\":\r\n",
    "    print(\"{} + {} = \".format(No1, No2))\r\n",
    "    print (No1 + No2)\r\n",
    "elif Operation == 'b':\r\n",
    "    print(\"{} - {} = \".format(No1, No2))\r\n",
    "    print (No1 - No2)\r\n",
    "elif Operation == 'c':\r\n",
    "    print(\"{} * {} = \".format(No1, No2))\r\n",
    "    print (No1 * No2)\r\n",
    "elif Operation == 'd':\r\n",
    "    print(\"{} / {} = \".format(No1, No2))\r\n",
    "    print (No1 / No2)\r\n",
    "elif Operation == 'e':\r\n",
    "    print(\"{} ** {} = \".format(No1, No2))\r\n",
    "    print (No1 ** No2)\r\n",
    "else:\r\n",
    "    print (\"You have entered an invalid operator\")"
   ],
   "outputs": [
    {
     "output_type": "stream",
     "name": "stdout",
     "text": [
      "4 * 5 = \n",
      "20\n"
     ]
    }
   ],
   "metadata": {}
  },
  {
   "cell_type": "markdown",
   "source": [
    "P2 HLT 1  FLOW CHART"
   ],
   "metadata": {}
  },
  {
   "cell_type": "code",
   "execution_count": null,
   "source": [
    "Red = (\"a\")\r\n",
    "Yellow = (\"b\")\r\n",
    "Blue = (\"c\")\r\n",
    "\r\n",
    "\r\n",
    "Choice1= input(\"please pick your first colour\")\r\n",
    "Choice2= input(\"please pick your second colour\")\r\n",
    "\r\n",
    "if (Choice1 == Red and Choice2 == Yellow) or  (Choice1 == Yellow and Choice2 == Red):\r\n",
    "    print (\"You have mixed orange\")\r\n",
    "elif (Choice1 == Yellow and Choice2 == Blue) or  (Choice1 == Blue and Choice2 == Yellow):\r\n",
    "    print (\"You have mixed Green\")\r\n",
    "elif (Choice1 == Red and Choice2 == Blue) or  (Choice1 == Blue and Choice2 == Red):\r\n",
    "    print (\"You have mixed purple\")"
   ],
   "outputs": [],
   "metadata": {}
  },
  {
   "cell_type": "markdown",
   "source": [
    "P2 HLT 2"
   ],
   "metadata": {}
  },
  {
   "cell_type": "code",
   "execution_count": 63,
   "source": [
    "def Motorbike_depreciation(MotorbikeNew, Depreciation):\r\n",
    "    MotorbikeNew = int(input())\r\n",
    "    Depreciation = float(input())\r\n",
    "    year = 1\r\n",
    "    \r\n",
    "    while MotorbikeNew>1000:\r\n",
    "        \r\n",
    "        MotorbikeNew = MotorbikeNew * Depreciation\r\n",
    "        year = year+1\r\n",
    "\r\n",
    "        print (\"The price of motorbike in year \", year, \"£\", MotorbikeNew)\r\n",
    "\r\n",
    "    return\r\n",
    "\r\n",
    "\r\n",
    "print (Motorbike_depreciation(MotorbikeNew, Depreciation))\r\n"
   ],
   "outputs": [
    {
     "output_type": "stream",
     "name": "stdout",
     "text": [
      "The price of motorbike in year  2 £ 1800.0\n",
      "The price of motorbike in year  3 £ 1620.0\n",
      "The price of motorbike in year  4 £ 1458.0\n",
      "The price of motorbike in year  5 £ 1312.2\n",
      "The price of motorbike in year  6 £ 1180.98\n",
      "The price of motorbike in year  7 £ 1062.882\n",
      "The price of motorbike in year  8 £ 956.5938000000001\n",
      "None\n"
     ]
    }
   ],
   "metadata": {}
  },
  {
   "cell_type": "code",
   "execution_count": 42,
   "source": [
    "Motorbike_depreciation(MotorbikeNew,Depreciation)"
   ],
   "outputs": [
    {
     "output_type": "stream",
     "name": "stdout",
     "text": [
      "The price of motorbike in year  1 £ 2000\n",
      "The price of motorbike in year  2 £ 1800.0\n",
      "The price of motorbike in year  3 £ 1620.0\n",
      "The price of motorbike in year  4 £ 1458.0\n",
      "The price of motorbike in year  5 £ 1312.2\n",
      "The price of motorbike in year  6 £ 1180.98\n",
      "The price of motorbike in year  7 £ 1062.882\n"
     ]
    }
   ],
   "metadata": {}
  },
  {
   "cell_type": "markdown",
   "source": [
    "P2 HLT 3"
   ],
   "metadata": {}
  },
  {
   "cell_type": "code",
   "execution_count": null,
   "source": [
    "def Calc_fnctn(choice, num1, num2):\r\n",
    "    print (\"a Addition\")\r\n",
    "    print (\"b Subtraction\")\r\n",
    "    print (\"c Multiplication\")\r\n",
    "    print (\"d Division\")\r\n",
    "    print (\"e raising to the power of\")\r\n",
    "\r\n",
    "    choice = input(\"Please enter your choice of operator: \")\r\n",
    "\r\n",
    "    num1 = float(input(\"Enter Number 1 : \"))\r\n",
    "    num2 = float(input(\"Enter Number 2 : \"))\r\n",
    "\r\n",
    "    if choice == \"a\":\r\n",
    "        print(num1, \"+\", num2, \"=\", (num1+num2))\r\n",
    "    elif choice == \"b\":\r\n",
    "        print(num1, \"-\", num2,\"=\", (num1-num2))\r\n",
    "    elif choice == \"c\":\r\n",
    "        print(num1, \"*\", num2,\"=\", (num1*num2))\r\n",
    "    elif choice == \"d\":\r\n",
    "        if Num2 == 0.0:\r\n",
    "            print (\"0 is not a valid opertion\")\r\n",
    "        else: \r\n",
    "            print(num1, \"/\", num2,\"=\", (num1/num2))\r\n",
    "    elif choice == \"e\":\r\n",
    "        print(num1, \"**\", num2,\"=\", (num1**num2))\r\n",
    "    else:\r\n",
    "        print (\"Error\")\r\n",
    "    return\r\n",
    "\r\n",
    "print (Calc_fnctn(choice, num1, num2))"
   ],
   "outputs": [],
   "metadata": {}
  },
  {
   "cell_type": "code",
   "execution_count": 62,
   "source": [
    "def Calc_Procedure(No1, No2, Operation):\r\n",
    "    print (\"Please pick your first number: \")\r\n",
    "    No1 = int(input())\r\n",
    "    print (\"Please pick your second number: \")\r\n",
    "    No2 = int(input())\r\n",
    "    print ('''\r\n",
    "    Please choose an operator: \r\n",
    "    a for addition\r\n",
    "    b for subtraction\r\n",
    "    c for multiplication\r\n",
    "    d for division\r\n",
    "    e for raising to the power of\r\n",
    "    ''')\r\n",
    "    Operation = input()\r\n",
    "    if Operation == \"a\":\r\n",
    "        print(\"{} + {} = \".format(No1, No2))\r\n",
    "        print (No1 + No2)\r\n",
    "    elif Operation == 'b':\r\n",
    "        print(\"{} - {} = \".format(No1, No2))\r\n",
    "        print (No1 - No2)\r\n",
    "    elif Operation == 'c':\r\n",
    "        print(\"{} * {} = \".format(No1, No2))\r\n",
    "        print (No1 * No2)\r\n",
    "    elif Operation == 'd':\r\n",
    "        print(\"{} / {} = \".format(No1, No2))\r\n",
    "        print (No1 / No2)\r\n",
    "    elif Operation == 'e':\r\n",
    "        print(\"{} ** {} = \".format(No1, No2))\r\n",
    "        print (No1 ** No2)\r\n",
    "    else:\r\n",
    "        print (\"You have entered an invalid operator\")\r\n",
    "\r\n",
    "\r\n",
    "\r\n",
    "print (Calc_Procedure(No1, No2, Operation))\r\n"
   ],
   "outputs": [
    {
     "output_type": "stream",
     "name": "stdout",
     "text": [
      "Please pick your first number: \n",
      "Please pick your second number: \n",
      "\n",
      "    Please choose an operator: \n",
      "    a for addition\n",
      "    b for subtraction\n",
      "    c for multiplication\n",
      "    d for division\n",
      "    e for raising to the power of\n",
      "    \n",
      "3 + 7 = \n",
      "10\n",
      "None\n"
     ]
    }
   ],
   "metadata": {}
  },
  {
   "cell_type": "code",
   "execution_count": 59,
   "source": [
    "Calc_Procedure()"
   ],
   "outputs": [
    {
     "output_type": "stream",
     "name": "stdout",
     "text": [
      "2 + 4 = \n",
      "6\n"
     ]
    }
   ],
   "metadata": {}
  },
  {
   "cell_type": "markdown",
   "source": [
    "Python 3 TASK 1"
   ],
   "metadata": {}
  },
  {
   "cell_type": "code",
   "execution_count": 56,
   "source": [
    "# i did this first\r\n",
    "my_file = open(\"Numbers.txt\", \"w\")\r\n",
    "\r\n",
    "my_file.write(\"My choice of 4 numbers is\") \r\n",
    "my_file.write(\"\\n\")\r\n",
    "my_file.write(\"choice 1 = \" + input(\"\" )) \r\n",
    "my_file.write(\"\\n\")\r\n",
    "my_file.write(\"choice 2 = \" + input(\"\" )) \r\n",
    "my_file.write(\"\\n\")\r\n",
    "my_file.write(\"choice 3 = \" + input(\"\" )) \r\n",
    "my_file.write(\"\\n\")\r\n",
    "my_file.write(\"choice 4 = \" + input(\"\" )) \r\n",
    "\r\n",
    "\r\n",
    "my_file.close()\r\n",
    "\r\n"
   ],
   "outputs": [],
   "metadata": {}
  },
  {
   "cell_type": "code",
   "execution_count": 78,
   "source": [
    "my_file = open(\"Numbers.txt\", \"w\")\r\n",
    "\r\n",
    "\r\n",
    "my_file.write(\"My choice of 4 numbers are:\") \r\n",
    "my_file.write(\"\\n\")\r\n",
    "\r\n",
    "def number_choice():\r\n",
    "    my_file.write(\"choice\")\r\n",
    "    my_file.write(input( \"\" )) \r\n",
    "    my_file.write(\"\\n\")\r\n",
    "\r\n",
    "number_choice()\r\n",
    "number_choice()\r\n",
    "number_choice()\r\n",
    "number_choice()\r\n",
    "\r\n",
    "my_file.close() "
   ],
   "outputs": [],
   "metadata": {}
  },
  {
   "cell_type": "code",
   "execution_count": 79,
   "source": [
    "my_file = open(\"Numbers.txt\", \"a\")\r\n",
    "\r\n",
    "\r\n",
    "my_file.write(\"My choice of 4 numbers are:\") \r\n",
    "my_file.write(\"\\n\")\r\n",
    "\r\n",
    "def number_choice():\r\n",
    "    my_file.write(\"choice\")\r\n",
    "    my_file.write(input( \"\" )) \r\n",
    "    my_file.write(\"\\n\")\r\n",
    "\r\n",
    "number_choice()\r\n",
    "number_choice()\r\n",
    "number_choice()\r\n",
    "number_choice()\r\n",
    "\r\n",
    "my_file.close() "
   ],
   "outputs": [],
   "metadata": {}
  },
  {
   "cell_type": "code",
   "execution_count": 86,
   "source": [
    "with open (\"Numbers.txt\", \"r\") as my_file:  \r\n",
    "\r\n",
    "    data = my_file.read().replace(\"\\n\", \",\")\r\n",
    "    my_file.close() \r\n",
    "\r\n",
    "print (data)"
   ],
   "outputs": [
    {
     "output_type": "stream",
     "name": "stdout",
     "text": [
      "My choice of 4 numbers are:,choice1,choice2,choice3,choice4,My choice of 4 numbers are:,choice2,choice3,choice4,choice5,\n"
     ]
    }
   ],
   "metadata": {}
  },
  {
   "cell_type": "markdown",
   "source": [
    "PYTHON 3 TASK 2"
   ],
   "metadata": {}
  },
  {
   "cell_type": "code",
   "execution_count": 89,
   "source": [
    "def mark_grade():\r\n",
    "    print (\"what is your percentage mark?\")\r\n",
    "    Mark = int(input (()))\r\n",
    "    print (\"My mark is \", Mark)\r\n",
    "    if Mark >= 90: print(\"You were awarded an A*\")\r\n",
    "    elif Mark >= 80:  print(\"You were awarded an A\")\r\n",
    "    elif Mark >= 70:  print(\"You were awarded a B\")\r\n",
    "    elif Mark >= 60:  print(\"You were awarded a C\")\r\n",
    "    elif Mark >= 50:  print(\"You were awarded a D\")\r\n",
    "    else:  print(\"You were awarded an E\")\r\n",
    "    \r\n",
    "    print (\"What is your target grade?\")\r\n",
    "    Target = int(input())\r\n",
    "    print (\"Your mark is \", Mark, \"and your target is \", Target)\r\n",
    "    if Target > Mark: print(\"You exceeded your target\")\r\n",
    "    elif Target == Mark: print(\"You reached your target\")\r\n",
    "    else:  return(\"You did not reach your target this time, great effort though!\")\r\n",
    "\r\n",
    "    return \r\n",
    "print (mark_grade ())\r\n",
    "\r\n"
   ],
   "outputs": [
    {
     "output_type": "stream",
     "name": "stdout",
     "text": [
      "what is your percentage mark?\n",
      "My mark is  69\n",
      "You were awarded a C\n",
      "What is your target grade?\n",
      "Your mark is  69 and your target is  35\n",
      "You did not reach your target this time, great effort though!\n"
     ]
    }
   ],
   "metadata": {}
  },
  {
   "cell_type": "code",
   "execution_count": 83,
   "source": [
    "def target_grade ():\r\n",
    "    print (\"What is your target grade?\")\r\n",
    "    Target = int(input())\r\n",
    "    \r\n",
    "    print (\"Your mark is \", Mark, \"and your target is \", Target)\r\n",
    "    if Target > Mark: print(\"You exceeded your target\")\r\n",
    "    elif Target == Mark: print(\"You reached your target\")\r\n",
    "    else:  return(\"You did not reach your target this time, great effort though!\")\r\n",
    "    \r\n",
    "print (target_grade ())"
   ],
   "outputs": [
    {
     "output_type": "stream",
     "name": "stdout",
     "text": [
      "What is your target grade?\n"
     ]
    },
    {
     "output_type": "error",
     "ename": "NameError",
     "evalue": "name 'Mark' is not defined",
     "traceback": [
      "\u001b[1;31m---------------------------------------------------------------------------\u001b[0m",
      "\u001b[1;31mNameError\u001b[0m                                 Traceback (most recent call last)",
      "\u001b[1;32m~\\AppData\\Local\\Temp/ipykernel_27272/1328591058.py\u001b[0m in \u001b[0;36m<module>\u001b[1;34m\u001b[0m\n\u001b[0;32m      8\u001b[0m     \u001b[1;32melse\u001b[0m\u001b[1;33m:\u001b[0m  \u001b[1;32mreturn\u001b[0m\u001b[1;33m(\u001b[0m\u001b[1;34m\"You did not reach your target this time, great effort though!\"\u001b[0m\u001b[1;33m)\u001b[0m\u001b[1;33m\u001b[0m\u001b[1;33m\u001b[0m\u001b[0m\n\u001b[0;32m      9\u001b[0m \u001b[1;33m\u001b[0m\u001b[0m\n\u001b[1;32m---> 10\u001b[1;33m \u001b[0mprint\u001b[0m \u001b[1;33m(\u001b[0m\u001b[0mtarget_grade\u001b[0m \u001b[1;33m(\u001b[0m\u001b[1;33m)\u001b[0m\u001b[1;33m)\u001b[0m\u001b[1;33m\u001b[0m\u001b[1;33m\u001b[0m\u001b[0m\n\u001b[0m",
      "\u001b[1;32m~\\AppData\\Local\\Temp/ipykernel_27272/1328591058.py\u001b[0m in \u001b[0;36mtarget_grade\u001b[1;34m()\u001b[0m\n\u001b[0;32m      3\u001b[0m     \u001b[0mTarget\u001b[0m \u001b[1;33m=\u001b[0m \u001b[0mint\u001b[0m\u001b[1;33m(\u001b[0m\u001b[0minput\u001b[0m\u001b[1;33m(\u001b[0m\u001b[1;33m)\u001b[0m\u001b[1;33m)\u001b[0m\u001b[1;33m\u001b[0m\u001b[1;33m\u001b[0m\u001b[0m\n\u001b[0;32m      4\u001b[0m \u001b[1;33m\u001b[0m\u001b[0m\n\u001b[1;32m----> 5\u001b[1;33m     \u001b[0mprint\u001b[0m \u001b[1;33m(\u001b[0m\u001b[1;34m\"Your mark is \"\u001b[0m\u001b[1;33m,\u001b[0m \u001b[0mMark\u001b[0m\u001b[1;33m,\u001b[0m \u001b[1;34m\"and your target is \"\u001b[0m\u001b[1;33m,\u001b[0m \u001b[0mTarget\u001b[0m\u001b[1;33m)\u001b[0m\u001b[1;33m\u001b[0m\u001b[1;33m\u001b[0m\u001b[0m\n\u001b[0m\u001b[0;32m      6\u001b[0m     \u001b[1;32mif\u001b[0m \u001b[0mTarget\u001b[0m \u001b[1;33m>\u001b[0m \u001b[0mMark\u001b[0m\u001b[1;33m:\u001b[0m \u001b[0mprint\u001b[0m\u001b[1;33m(\u001b[0m\u001b[1;34m\"You exceeded your target\"\u001b[0m\u001b[1;33m)\u001b[0m\u001b[1;33m\u001b[0m\u001b[1;33m\u001b[0m\u001b[0m\n\u001b[0;32m      7\u001b[0m     \u001b[1;32melif\u001b[0m \u001b[0mTarget\u001b[0m \u001b[1;33m==\u001b[0m \u001b[0mMark\u001b[0m\u001b[1;33m:\u001b[0m \u001b[0mprint\u001b[0m\u001b[1;33m(\u001b[0m\u001b[1;34m\"You reached your target\"\u001b[0m\u001b[1;33m)\u001b[0m\u001b[1;33m\u001b[0m\u001b[1;33m\u001b[0m\u001b[0m\n",
      "\u001b[1;31mNameError\u001b[0m: name 'Mark' is not defined"
     ]
    }
   ],
   "metadata": {}
  },
  {
   "cell_type": "code",
   "execution_count": 69,
   "source": [
    "def mark_grade (Mark, Target):\r\n",
    "    print (\"what is your percentage mark?\")\r\n",
    "    Mark = int(input (()))\r\n",
    "    print (\"My mark is \", Mark)\r\n",
    "    if Mark >= 90: print(\"You were awarded an A*\")\r\n",
    "    elif Mark >= 80:  return(\"You were awarded an A\")\r\n",
    "    elif Mark >= 70:  return(\"You were awarded a B\")\r\n",
    "    elif Mark >= 60:  return(\"You were awarded a C\")\r\n",
    "    elif Mark >= 50:  return(\"You were awarded a D\")\r\n",
    "    else:  return(\"You were awarded an E\")\r\n",
    "    print (\"What is your target grade?\")\r\n",
    "    Target = int(input (()))\r\n",
    "    print (\"Your mark is \", Mark, \"and your target is \",Target)\r\n",
    "    if Mark < Target: return print(\"You exceeded your target\")\r\n",
    "    elif  Mark == Target: return print(\"You reached your target\")\r\n",
    "    else:  return(\"You did not reach your target this time, great effort though!\")\r\n",
    "    return \r\n",
    "\r\n",
    "print (mark_grade (Mark, Target))\r\n",
    "\r\n"
   ],
   "outputs": [
    {
     "output_type": "error",
     "ename": "NameError",
     "evalue": "name 'Mark' is not defined",
     "traceback": [
      "\u001b[1;31m---------------------------------------------------------------------------\u001b[0m",
      "\u001b[1;31mNameError\u001b[0m                                 Traceback (most recent call last)",
      "\u001b[1;32m~\\AppData\\Local\\Temp/ipykernel_27272/4125800502.py\u001b[0m in \u001b[0;36m<module>\u001b[1;34m\u001b[0m\n\u001b[0;32m     17\u001b[0m     \u001b[1;32mreturn\u001b[0m\u001b[1;33m\u001b[0m\u001b[1;33m\u001b[0m\u001b[0m\n\u001b[0;32m     18\u001b[0m \u001b[1;33m\u001b[0m\u001b[0m\n\u001b[1;32m---> 19\u001b[1;33m \u001b[0mprint\u001b[0m \u001b[1;33m(\u001b[0m\u001b[0mmark_grade\u001b[0m \u001b[1;33m(\u001b[0m\u001b[0mMark\u001b[0m\u001b[1;33m,\u001b[0m \u001b[0mTarget\u001b[0m\u001b[1;33m)\u001b[0m\u001b[1;33m)\u001b[0m\u001b[1;33m\u001b[0m\u001b[1;33m\u001b[0m\u001b[0m\n\u001b[0m\u001b[0;32m     20\u001b[0m \u001b[1;33m\u001b[0m\u001b[0m\n",
      "\u001b[1;31mNameError\u001b[0m: name 'Mark' is not defined"
     ]
    }
   ],
   "metadata": {}
  },
  {
   "cell_type": "code",
   "execution_count": 6,
   "source": [
    "print (\"what is your percentage mark?\")\r\n",
    "Mark = int(input (()))\r\n",
    "print (\"My mark is \", Mark)\r\n",
    "if Mark >= 90: print(\"You were awarded an A*\")\r\n",
    "elif Mark >= 80:  print(\"You were awarded an A\")\r\n",
    "elif Mark >= 70:  print(\"You were awarded a B\")\r\n",
    "elif Mark >= 60:  print(\"You were awarded a C\")\r\n",
    "elif Mark >= 50:  print(\"You were awarded a D\")\r\n",
    "else:  print(\"You were awarded an E\")\r\n",
    "print (\"What is your target grade?\")\r\n",
    "Target = int(input (()))\r\n",
    "print (\"Your mark is \", Mark, \"and your target is \", Target)\r\n",
    "if Mark < Target:  print(\"You exceeded your target\")\r\n",
    "elif  Mark == Target:  print(\"You reached your target\")\r\n",
    "else:  print(\"You did not reach your target this time, great effort though!\")"
   ],
   "outputs": [
    {
     "output_type": "stream",
     "name": "stdout",
     "text": [
      "what is your percentage mark?\n",
      "My mark is  45\n",
      "You were awarded an E\n",
      "What is your target grade?\n",
      "Your mark is  45 and your target is  75\n",
      "You exceeded your target\n"
     ]
    }
   ],
   "metadata": {}
  }
 ],
 "metadata": {
  "orig_nbformat": 4,
  "language_info": {
   "name": "python",
   "version": "3.9.7",
   "mimetype": "text/x-python",
   "codemirror_mode": {
    "name": "ipython",
    "version": 3
   },
   "pygments_lexer": "ipython3",
   "nbconvert_exporter": "python",
   "file_extension": ".py"
  },
  "kernelspec": {
   "name": "python3",
   "display_name": "Python 3.9.7 64-bit"
  },
  "interpreter": {
   "hash": "afa409831466df0854d50cb698ae4ee7319aa1e2cf1de67df4dad57674eaa065"
  }
 },
 "nbformat": 4,
 "nbformat_minor": 2
}
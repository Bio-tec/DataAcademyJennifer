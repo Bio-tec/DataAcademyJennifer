{
 "cells": [
  {
   "cell_type": "code",
   "execution_count": 1,
   "metadata": {},
   "outputs": [],
   "source": [
    "import numpy as np"
   ]
  },
  {
   "cell_type": "code",
   "execution_count": 2,
   "metadata": {},
   "outputs": [],
   "source": [
    "import pandas as pd"
   ]
  },
  {
   "cell_type": "markdown",
   "metadata": {},
   "source": [
    "WK 2: TASK 1 - 1D Array"
   ]
  },
  {
   "cell_type": "code",
   "execution_count": 6,
   "metadata": {},
   "outputs": [
    {
     "name": "stdout",
     "output_type": "stream",
     "text": [
      "[0, 1, 2, 3, 4, 5, 6, 7, 8, 9]\n",
      "[0 1 2 3 4 5 6 7 8 9]\n"
     ]
    }
   ],
   "source": [
    "#Create a 1D array of numbers from 0 to 9\n",
    "array1Dnp = np.array([0,1,2,3,4,5,6,7,8,9])\n",
    "array1D = [0,1,2,3,4,5,6,7,8,9]\n",
    "print (array1D)\n",
    "print (array1Dnp)"
   ]
  },
  {
   "cell_type": "markdown",
   "metadata": {},
   "source": [
    "Task 2 - 3X3 Numpy array of all Boolean values TRUES"
   ]
  },
  {
   "cell_type": "code",
   "execution_count": 7,
   "metadata": {},
   "outputs": [
    {
     "name": "stdout",
     "output_type": "stream",
     "text": [
      "[[ True  True  True]\n",
      " [ True  True  True]\n",
      " [ True  True  True]]\n"
     ]
    }
   ],
   "source": [
    "#Create a 3×3 NumPy array of all Boolean value Trues\n",
    "array_2d_boo = np.array([[1, 2, 3], [4, 5, 6], [7, 8, 9]])\n",
    "\n",
    "True_values = (array_2d_boo > 0)\n",
    "\n",
    "print (True_values)"
   ]
  },
  {
   "cell_type": "code",
   "execution_count": 43,
   "metadata": {},
   "outputs": [
    {
     "name": "stdout",
     "output_type": "stream",
     "text": [
      "[[ True  True  True]\n",
      " [ True  True  True]\n",
      " [ True  True  True]]\n"
     ]
    }
   ],
   "source": [
    "alltrue = np.ones([3,3],dtype=bool)\n",
    "print (alltrue)\n"
   ]
  },
  {
   "cell_type": "code",
   "execution_count": 44,
   "metadata": {},
   "outputs": [
    {
     "name": "stdout",
     "output_type": "stream",
     "text": [
      "[[ True  True  True]\n",
      " [ True  True  True]\n",
      " [ True  True  True]]\n"
     ]
    }
   ],
   "source": [
    "alltrue = np.ones([3,3])\n",
    "print ((alltrue)%2!=2)"
   ]
  },
  {
   "cell_type": "markdown",
   "metadata": {},
   "source": [
    "TASK 3"
   ]
  },
  {
   "cell_type": "code",
   "execution_count": 4,
   "metadata": {},
   "outputs": [
    {
     "name": "stdout",
     "output_type": "stream",
     "text": [
      "Extract even [2 4 6 8]\n",
      "Extract odd [1 3 5 7 9]\n"
     ]
    }
   ],
   "source": [
    "#Extract all odd numbers from array of 1-10\n",
    "array1Dnp = np.arange(1,10)\n",
    "print (\"Extract even\", array1Dnp[1::2])\n",
    "print (\"Extract odd\", array1Dnp[0::2])\n",
    "#NB i understood extract to mean display only those numbers extracted, \n",
    "# rather than extract out of the display so that it displays everything else - not sure if that was what was meant?"
   ]
  },
  {
   "cell_type": "code",
   "execution_count": 17,
   "metadata": {},
   "outputs": [
    {
     "name": "stdout",
     "output_type": "stream",
     "text": [
      "[2 4 6 8]\n"
     ]
    }
   ],
   "source": [
    "import numpy as np\n",
    "a = np.array([1,2,3,4,5,6,7,8,9])\n",
    "a[a % 2 == 1]\n",
    "print (a[a % 2 == 0])\n",
    "\n"
   ]
  },
  {
   "cell_type": "code",
   "execution_count": null,
   "metadata": {},
   "outputs": [],
   "source": [
    "TASK 4"
   ]
  },
  {
   "cell_type": "code",
   "execution_count": 40,
   "metadata": {},
   "outputs": [
    {
     "name": "stdout",
     "output_type": "stream",
     "text": [
      "[-1  2 -1  4 -1  6 -1  8 -1]\n"
     ]
    }
   ],
   "source": [
    "#Replace all odd numbers in an array of 1-10 with the value -1\n",
    "a = np.array([1,2,3,4,5,6,7,8,9])\n",
    "for x in a:\n",
    "    a[a % 2 == 1] = -1\n",
    "print (a)"
   ]
  },
  {
   "cell_type": "markdown",
   "metadata": {},
   "source": [
    "TASK 5"
   ]
  },
  {
   "cell_type": "code",
   "execution_count": 124,
   "metadata": {},
   "outputs": [
    {
     "name": "stdout",
     "output_type": "stream",
     "text": [
      "[[ 1  2  3  4  5]\n",
      " [ 6  7  8  9 10]]\n"
     ]
    }
   ],
   "source": [
    "#Convert a 1D array to a 2D array with 2 rows\n",
    "array = np.array([1, 2, 3, 4, 5, 6, 7, 8, 9, 10])\n",
    "\n",
    "\n",
    "newArray1 = array.reshape(2,5) \n",
    "print (newArray1)"
   ]
  },
  {
   "cell_type": "markdown",
   "metadata": {},
   "source": [
    "\n"
   ]
  },
  {
   "cell_type": "markdown",
   "metadata": {},
   "source": [
    "TASK 6"
   ]
  },
  {
   "cell_type": "code",
   "execution_count": 77,
   "metadata": {},
   "outputs": [
    {
     "name": "stdout",
     "output_type": "stream",
     "text": [
      "[[[  1   2   3]\n",
      "  [  4   5   6]\n",
      "  [  7   8   9]]\n",
      "\n",
      " [[ 10  11  12]\n",
      "  [ 13  14  15]\n",
      "  [ 16  17  18]]\n",
      "\n",
      " [[ 84  90  96]\n",
      "  [201 216 231]\n",
      "  [318 342 366]]]\n",
      "[603 648 693]\n",
      "1944\n"
     ]
    }
   ],
   "source": [
    "#Create two arrays a and b, stack these two arrays vertically use the np.dot and np.sum to calculate totals\n",
    "\n",
    "a=np.arange (1 , 10).reshape (3,3)\n",
    "b=np.arange (10 , 19).reshape (3,3)\n",
    "\n",
    "c = np.dot(a, b)\n",
    "d = np.sum(c, axis = 0)\n",
    "e = np.sum(c)\n",
    "print (np.stack((a,b,c)))\n",
    "print (d)\n",
    "print (e)"
   ]
  },
  {
   "cell_type": "markdown",
   "metadata": {},
   "source": [
    "EXTENSION 1. PATTERN "
   ]
  },
  {
   "cell_type": "code",
   "execution_count": 52,
   "metadata": {},
   "outputs": [
    {
     "data": {
      "text/plain": [
       "array([1, 1, 1, 1, 2, 2, 2, 2, 3, 3, 3, 3, 1, 2, 3, 1, 2, 3, 1, 2, 3])"
      ]
     },
     "execution_count": 52,
     "metadata": {},
     "output_type": "execute_result"
    }
   ],
   "source": [
    "array1 = np.array([1, 2, 3])\n",
    "\n",
    "np.append(np.repeat(array1,3), np.tile(array1,3))"
   ]
  },
  {
   "cell_type": "markdown",
   "metadata": {},
   "source": [
    "EXT 2 - REMOVE REPEATING ITEMS"
   ]
  },
  {
   "cell_type": "code",
   "execution_count": 20,
   "metadata": {},
   "outputs": [
    {
     "data": {
      "text/plain": [
       "array([6, 7, 8, 9])"
      ]
     },
     "execution_count": 20,
     "metadata": {},
     "output_type": "execute_result"
    }
   ],
   "source": [
    "a = np.array([1, 2, 3, 4, 5])\n",
    "b = np.array([4, 5, 6, 7, 8, 9])\n",
    "\n",
    "np.setdiff1d(b,a)"
   ]
  },
  {
   "cell_type": "code",
   "execution_count": 72,
   "metadata": {},
   "outputs": [
    {
     "data": {
      "text/plain": [
       "array([1, 2, 3, 4, 5, 6, 7, 8, 9])"
      ]
     },
     "execution_count": 72,
     "metadata": {},
     "output_type": "execute_result"
    }
   ],
   "source": [
    "a = np.array([1, 2, 3, 4, 5])\n",
    "b = np.array([4, 5, 6, 7, 8, 9])\n",
    "\n",
    "c=np.concatenate((a, b))\n",
    "c\n",
    "_, i = np.unique(c, return_index=True)\n",
    "c[np.sort(i)]\n"
   ]
  },
  {
   "cell_type": "code",
   "execution_count": 7,
   "metadata": {},
   "outputs": [
    {
     "name": "stdout",
     "output_type": "stream",
     "text": [
      "27\n"
     ]
    }
   ],
   "source": [
    "#Get all items between 3 and 7 from a and b and sum them together\n",
    "\n",
    "import numpy as np\n",
    "\n",
    "a = np.array([1, 2, 3, 4, 5])\n",
    "b = np.array([4, 5, 6, 7, 8, 9])\n",
    "\n",
    "c=np.sum(a[2:5])\n",
    "d=np.sum(b[0:3])\n",
    "print (c+d)\n",
    "\n",
    "\n"
   ]
  },
  {
   "cell_type": "code",
   "execution_count": 8,
   "metadata": {},
   "outputs": [
    {
     "ename": "SyntaxError",
     "evalue": "invalid syntax (<ipython-input-8-bebd26af34a3>, line 5)",
     "output_type": "error",
     "traceback": [
      "\u001b[1;36m  File \u001b[1;32m\"<ipython-input-8-bebd26af34a3>\"\u001b[1;36m, line \u001b[1;32m5\u001b[0m\n\u001b[1;33m    B = (b[(a >= 3) & (b <= 7)]\u001b[0m\n\u001b[1;37m    ^\u001b[0m\n\u001b[1;31mSyntaxError\u001b[0m\u001b[1;31m:\u001b[0m invalid syntax\n"
     ]
    }
   ],
   "source": [
    "a = np.array([1, 2, 3, 4, 5])\n",
    "b = np.array([4, 5, 6, 7, 8, 9])\n",
    "\n",
    "A = (a[(a >= 3) & (a <= 7)] \n",
    "B = (b[(a >= 3) & (b <= 7)] \n",
    "np.sum(A,B)\n",
    "\n",
    "# I tried this way too but did not work"
   ]
  },
  {
   "cell_type": "markdown",
   "metadata": {},
   "source": [
    "HLT PANDAS"
   ]
  },
  {
   "cell_type": "code",
   "execution_count": 105,
   "metadata": {},
   "outputs": [
    {
     "data": {
      "text/plain": [
       "(15, 5)"
      ]
     },
     "execution_count": 105,
     "metadata": {},
     "output_type": "execute_result"
    }
   ],
   "source": [
    "# How many rows and columns are there in your file?\n",
    "\n",
    "\n",
    "data = pd.read_csv(\"Holiday_Destinations.csv\")\n",
    "data.shape\n"
   ]
  },
  {
   "cell_type": "code",
   "execution_count": 50,
   "metadata": {},
   "outputs": [
    {
     "data": {
      "text/html": [
       "<div>\n",
       "<style scoped>\n",
       "    .dataframe tbody tr th:only-of-type {\n",
       "        vertical-align: middle;\n",
       "    }\n",
       "\n",
       "    .dataframe tbody tr th {\n",
       "        vertical-align: top;\n",
       "    }\n",
       "\n",
       "    .dataframe thead th {\n",
       "        text-align: right;\n",
       "    }\n",
       "</style>\n",
       "<table border=\"1\" class=\"dataframe\">\n",
       "  <thead>\n",
       "    <tr style=\"text-align: right;\">\n",
       "      <th></th>\n",
       "      <th>DESTINATIONS</th>\n",
       "      <th>SCORE OUT OF 10</th>\n",
       "      <th>AVG HOTEL STAR RATING</th>\n",
       "      <th>NO. ALL INC HOTELS IN AREA</th>\n",
       "      <th>MOST VISITED CITY IN DESTINATION</th>\n",
       "    </tr>\n",
       "  </thead>\n",
       "  <tbody>\n",
       "    <tr>\n",
       "      <th>3</th>\n",
       "      <td>Thailand</td>\n",
       "      <td>7.7</td>\n",
       "      <td>3.5</td>\n",
       "      <td>22</td>\n",
       "      <td>Khanom</td>\n",
       "    </tr>\n",
       "    <tr>\n",
       "      <th>4</th>\n",
       "      <td>Japan</td>\n",
       "      <td>6.3</td>\n",
       "      <td>4.5</td>\n",
       "      <td>31</td>\n",
       "      <td>Tokyo</td>\n",
       "    </tr>\n",
       "    <tr>\n",
       "      <th>5</th>\n",
       "      <td>Croatia</td>\n",
       "      <td>5.7</td>\n",
       "      <td>2.9</td>\n",
       "      <td>8</td>\n",
       "      <td>Rovinj</td>\n",
       "    </tr>\n",
       "    <tr>\n",
       "      <th>6</th>\n",
       "      <td>France</td>\n",
       "      <td>5.4</td>\n",
       "      <td>3.9</td>\n",
       "      <td>45</td>\n",
       "      <td>Paris</td>\n",
       "    </tr>\n",
       "    <tr>\n",
       "      <th>7</th>\n",
       "      <td>Sri Lanka</td>\n",
       "      <td>9.1</td>\n",
       "      <td>3.6</td>\n",
       "      <td>39</td>\n",
       "      <td>Polonnaruwa</td>\n",
       "    </tr>\n",
       "    <tr>\n",
       "      <th>8</th>\n",
       "      <td>Iceland</td>\n",
       "      <td>8.3</td>\n",
       "      <td>4.2</td>\n",
       "      <td>5</td>\n",
       "      <td>Reykjavik</td>\n",
       "    </tr>\n",
       "  </tbody>\n",
       "</table>\n",
       "</div>"
      ],
      "text/plain": [
       "  DESTINATIONS  SCORE OUT OF 10  AVG HOTEL STAR RATING  \\\n",
       "3     Thailand              7.7                    3.5   \n",
       "4        Japan              6.3                    4.5   \n",
       "5      Croatia              5.7                    2.9   \n",
       "6       France              5.4                    3.9   \n",
       "7    Sri Lanka              9.1                    3.6   \n",
       "8      Iceland              8.3                    4.2   \n",
       "\n",
       "   NO. ALL INC HOTELS IN AREA MOST VISITED CITY IN DESTINATION  \n",
       "3                          22                           Khanom  \n",
       "4                          31                            Tokyo  \n",
       "5                           8                           Rovinj  \n",
       "6                          45                            Paris  \n",
       "7                          39                     Polonnaruwa   \n",
       "8                           5                        Reykjavik  "
      ]
     },
     "execution_count": 50,
     "metadata": {},
     "output_type": "execute_result"
    }
   ],
   "source": [
    "# Print row 3-8 ( using iloc/loc).\n",
    "data = pd.read_csv(\"Holiday_Destinations.csv\")\n",
    "data.loc[3:8]"
   ]
  },
  {
   "cell_type": "code",
   "execution_count": 79,
   "metadata": {},
   "outputs": [
    {
     "data": {
      "text/plain": [
       "32.266666666666666"
      ]
     },
     "execution_count": 79,
     "metadata": {},
     "output_type": "execute_result"
    }
   ],
   "source": [
    "# Find the mean number of all-inclusive hotels across all destinations\n",
    "\n",
    "data = pd.read_csv(\"Holiday_Destinations.csv\")\n",
    "data [\"NO. ALL INC HOTELS IN AREA\"].mean()\n"
   ]
  },
  {
   "cell_type": "code",
   "execution_count": 134,
   "metadata": {},
   "outputs": [
    {
     "data": {
      "text/html": [
       "<div>\n",
       "<style scoped>\n",
       "    .dataframe tbody tr th:only-of-type {\n",
       "        vertical-align: middle;\n",
       "    }\n",
       "\n",
       "    .dataframe tbody tr th {\n",
       "        vertical-align: top;\n",
       "    }\n",
       "\n",
       "    .dataframe thead th {\n",
       "        text-align: right;\n",
       "    }\n",
       "</style>\n",
       "<table border=\"1\" class=\"dataframe\">\n",
       "  <thead>\n",
       "    <tr style=\"text-align: right;\">\n",
       "      <th></th>\n",
       "      <th>DESTINATIONS</th>\n",
       "      <th>SCORE OUT OF 10</th>\n",
       "      <th>AVG HOTEL STAR RATING</th>\n",
       "      <th>NO. ALL INC HOTELS IN AREA</th>\n",
       "      <th>MOST VISITED CITY IN DESTINATION</th>\n",
       "    </tr>\n",
       "  </thead>\n",
       "  <tbody>\n",
       "    <tr>\n",
       "      <th>6</th>\n",
       "      <td>France</td>\n",
       "      <td>5.4</td>\n",
       "      <td>3.9</td>\n",
       "      <td>45</td>\n",
       "      <td>Paris</td>\n",
       "    </tr>\n",
       "  </tbody>\n",
       "</table>\n",
       "</div>"
      ],
      "text/plain": [
       "  DESTINATIONS  SCORE OUT OF 10  AVG HOTEL STAR RATING  \\\n",
       "6       France              5.4                    3.9   \n",
       "\n",
       "   NO. ALL INC HOTELS IN AREA MOST VISITED CITY IN DESTINATION  \n",
       "6                          45                            Paris  "
      ]
     },
     "execution_count": 134,
     "metadata": {},
     "output_type": "execute_result"
    }
   ],
   "source": [
    "# Find the lowest scoring destination.\n",
    "import pandas as pd\n",
    "\n",
    "data = pd.read_csv(\"Holiday_Destinations.csv\")\n",
    "(data.loc[data[\"SCORE OUT OF 10\"] == data[\"SCORE OUT OF 10\"].min()])"
   ]
  },
  {
   "cell_type": "code",
   "execution_count": 51,
   "metadata": {},
   "outputs": [
    {
     "data": {
      "text/html": [
       "<div>\n",
       "<style scoped>\n",
       "    .dataframe tbody tr th:only-of-type {\n",
       "        vertical-align: middle;\n",
       "    }\n",
       "\n",
       "    .dataframe tbody tr th {\n",
       "        vertical-align: top;\n",
       "    }\n",
       "\n",
       "    .dataframe thead th {\n",
       "        text-align: right;\n",
       "    }\n",
       "</style>\n",
       "<table border=\"1\" class=\"dataframe\">\n",
       "  <thead>\n",
       "    <tr style=\"text-align: right;\">\n",
       "      <th></th>\n",
       "      <th>DESTINATIONS</th>\n",
       "      <th>SCORE OUT OF 10</th>\n",
       "      <th>AVG HOTEL STAR RATING</th>\n",
       "      <th>NO. ALL INC HOTELS IN AREA</th>\n",
       "      <th>MOST VISITED CITY IN DESTINATION</th>\n",
       "    </tr>\n",
       "  </thead>\n",
       "  <tbody>\n",
       "    <tr>\n",
       "      <th>0</th>\n",
       "      <td>Costa Rica</td>\n",
       "      <td>9.6</td>\n",
       "      <td>3.8</td>\n",
       "      <td>19</td>\n",
       "      <td>Puerto Lim�n</td>\n",
       "    </tr>\n",
       "  </tbody>\n",
       "</table>\n",
       "</div>"
      ],
      "text/plain": [
       "  DESTINATIONS  SCORE OUT OF 10  AVG HOTEL STAR RATING  \\\n",
       "0   Costa Rica              9.6                    3.8   \n",
       "\n",
       "   NO. ALL INC HOTELS IN AREA MOST VISITED CITY IN DESTINATION  \n",
       "0                          19                     Puerto Lim�n  "
      ]
     },
     "execution_count": 51,
     "metadata": {},
     "output_type": "execute_result"
    }
   ],
   "source": [
    "# Find the highest scoring destination.\n",
    "import pandas as pd\n",
    "\n",
    "data = pd.read_csv(\"Holiday_Destinations.csv\")\n",
    "(data.loc[data[\"SCORE OUT OF 10\"] == data[\"SCORE OUT OF 10\"].max()])"
   ]
  },
  {
   "cell_type": "code",
   "execution_count": 136,
   "metadata": {},
   "outputs": [
    {
     "data": {
      "text/html": [
       "<div>\n",
       "<style scoped>\n",
       "    .dataframe tbody tr th:only-of-type {\n",
       "        vertical-align: middle;\n",
       "    }\n",
       "\n",
       "    .dataframe tbody tr th {\n",
       "        vertical-align: top;\n",
       "    }\n",
       "\n",
       "    .dataframe thead th {\n",
       "        text-align: right;\n",
       "    }\n",
       "</style>\n",
       "<table border=\"1\" class=\"dataframe\">\n",
       "  <thead>\n",
       "    <tr style=\"text-align: right;\">\n",
       "      <th></th>\n",
       "      <th>DESTINATIONS</th>\n",
       "      <th>SCORE OUT OF 10</th>\n",
       "      <th>AVG HOTEL STAR RATING</th>\n",
       "      <th>NO. ALL INC HOTELS IN AREA</th>\n",
       "      <th>MOST VISITED CITY IN DESTINATION</th>\n",
       "    </tr>\n",
       "  </thead>\n",
       "  <tbody>\n",
       "    <tr>\n",
       "      <th>0</th>\n",
       "      <td>Costa Rica</td>\n",
       "      <td>9.6</td>\n",
       "      <td>3.8</td>\n",
       "      <td>19</td>\n",
       "      <td>Puerto Lim�n</td>\n",
       "    </tr>\n",
       "    <tr>\n",
       "      <th>1</th>\n",
       "      <td>India</td>\n",
       "      <td>8.7</td>\n",
       "      <td>3.2</td>\n",
       "      <td>82</td>\n",
       "      <td>Agra</td>\n",
       "    </tr>\n",
       "    <tr>\n",
       "      <th>2</th>\n",
       "      <td>Peru</td>\n",
       "      <td>8.2</td>\n",
       "      <td>4.1</td>\n",
       "      <td>36</td>\n",
       "      <td>Arequipa</td>\n",
       "    </tr>\n",
       "    <tr>\n",
       "      <th>3</th>\n",
       "      <td>Thailand</td>\n",
       "      <td>7.7</td>\n",
       "      <td>3.5</td>\n",
       "      <td>22</td>\n",
       "      <td>Khanom</td>\n",
       "    </tr>\n",
       "    <tr>\n",
       "      <th>4</th>\n",
       "      <td>Japan</td>\n",
       "      <td>6.3</td>\n",
       "      <td>4.5</td>\n",
       "      <td>31</td>\n",
       "      <td>Tokyo</td>\n",
       "    </tr>\n",
       "    <tr>\n",
       "      <th>6</th>\n",
       "      <td>France</td>\n",
       "      <td>5.4</td>\n",
       "      <td>3.9</td>\n",
       "      <td>45</td>\n",
       "      <td>Paris</td>\n",
       "    </tr>\n",
       "    <tr>\n",
       "      <th>7</th>\n",
       "      <td>Sri Lanka</td>\n",
       "      <td>9.1</td>\n",
       "      <td>3.6</td>\n",
       "      <td>39</td>\n",
       "      <td>Polonnaruwa</td>\n",
       "    </tr>\n",
       "    <tr>\n",
       "      <th>9</th>\n",
       "      <td>Brazil</td>\n",
       "      <td>7.4</td>\n",
       "      <td>3.1</td>\n",
       "      <td>54</td>\n",
       "      <td>Rio de Janeiro</td>\n",
       "    </tr>\n",
       "    <tr>\n",
       "      <th>10</th>\n",
       "      <td>Botswana</td>\n",
       "      <td>6.9</td>\n",
       "      <td>4.0</td>\n",
       "      <td>26</td>\n",
       "      <td>Kasane</td>\n",
       "    </tr>\n",
       "    <tr>\n",
       "      <th>13</th>\n",
       "      <td>Vietnam</td>\n",
       "      <td>8.1</td>\n",
       "      <td>2.8</td>\n",
       "      <td>58</td>\n",
       "      <td>Da Nang</td>\n",
       "    </tr>\n",
       "    <tr>\n",
       "      <th>14</th>\n",
       "      <td>Canada</td>\n",
       "      <td>5.6</td>\n",
       "      <td>3.7</td>\n",
       "      <td>45</td>\n",
       "      <td>Montreal</td>\n",
       "    </tr>\n",
       "  </tbody>\n",
       "</table>\n",
       "</div>"
      ],
      "text/plain": [
       "   DESTINATIONS  SCORE OUT OF 10  AVG HOTEL STAR RATING  \\\n",
       "0    Costa Rica              9.6                    3.8   \n",
       "1         India              8.7                    3.2   \n",
       "2          Peru              8.2                    4.1   \n",
       "3      Thailand              7.7                    3.5   \n",
       "4         Japan              6.3                    4.5   \n",
       "6        France              5.4                    3.9   \n",
       "7     Sri Lanka              9.1                    3.6   \n",
       "9        Brazil              7.4                    3.1   \n",
       "10     Botswana              6.9                    4.0   \n",
       "13      Vietnam              8.1                    2.8   \n",
       "14       Canada              5.6                    3.7   \n",
       "\n",
       "    NO. ALL INC HOTELS IN AREA MOST VISITED CITY IN DESTINATION  \n",
       "0                           19                     Puerto Lim�n  \n",
       "1                           82                             Agra  \n",
       "2                           36                         Arequipa  \n",
       "3                           22                           Khanom  \n",
       "4                           31                            Tokyo  \n",
       "6                           45                            Paris  \n",
       "7                           39                     Polonnaruwa   \n",
       "9                           54                  Rio de Janeiro   \n",
       "10                          26                           Kasane  \n",
       "13                          58                          Da Nang  \n",
       "14                          45                         Montreal  "
      ]
     },
     "execution_count": 136,
     "metadata": {},
     "output_type": "execute_result"
    }
   ],
   "source": [
    "# Find all the destinations where there are more than 9 all-inclusive hotels. \n",
    "data = pd.read_csv(\"Holiday_Destinations.csv\")\n",
    "\n",
    "(data.loc[data[\"NO. ALL INC HOTELS IN AREA\"] >= 9])"
   ]
  },
  {
   "cell_type": "code",
   "execution_count": 87,
   "metadata": {},
   "outputs": [
    {
     "data": {
      "text/html": [
       "<div>\n",
       "<style scoped>\n",
       "    .dataframe tbody tr th:only-of-type {\n",
       "        vertical-align: middle;\n",
       "    }\n",
       "\n",
       "    .dataframe tbody tr th {\n",
       "        vertical-align: top;\n",
       "    }\n",
       "\n",
       "    .dataframe thead th {\n",
       "        text-align: right;\n",
       "    }\n",
       "</style>\n",
       "<table border=\"1\" class=\"dataframe\">\n",
       "  <thead>\n",
       "    <tr style=\"text-align: right;\">\n",
       "      <th></th>\n",
       "      <th>DESTINATIONS</th>\n",
       "      <th>SCORE OUT OF 10</th>\n",
       "      <th>AVG HOTEL STAR RATING</th>\n",
       "      <th>NO. ALL INC HOTELS IN AREA</th>\n",
       "      <th>MOST VISITED CITY IN DESTINATION</th>\n",
       "    </tr>\n",
       "  </thead>\n",
       "  <tbody>\n",
       "    <tr>\n",
       "      <th>0</th>\n",
       "      <td>Costa Rica</td>\n",
       "      <td>9.6</td>\n",
       "      <td>3.8</td>\n",
       "      <td>19</td>\n",
       "      <td>Puerto Lim�n</td>\n",
       "    </tr>\n",
       "    <tr>\n",
       "      <th>1</th>\n",
       "      <td>India</td>\n",
       "      <td>8.7</td>\n",
       "      <td>3.2</td>\n",
       "      <td>82</td>\n",
       "      <td>Agra</td>\n",
       "    </tr>\n",
       "    <tr>\n",
       "      <th>2</th>\n",
       "      <td>Peru</td>\n",
       "      <td>8.2</td>\n",
       "      <td>4.1</td>\n",
       "      <td>36</td>\n",
       "      <td>Arequipa</td>\n",
       "    </tr>\n",
       "    <tr>\n",
       "      <th>7</th>\n",
       "      <td>Sri Lanka</td>\n",
       "      <td>9.1</td>\n",
       "      <td>3.6</td>\n",
       "      <td>39</td>\n",
       "      <td>Polonnaruwa</td>\n",
       "    </tr>\n",
       "    <tr>\n",
       "      <th>8</th>\n",
       "      <td>Iceland</td>\n",
       "      <td>8.3</td>\n",
       "      <td>4.2</td>\n",
       "      <td>5</td>\n",
       "      <td>Reykjavik</td>\n",
       "    </tr>\n",
       "    <tr>\n",
       "      <th>13</th>\n",
       "      <td>Vietnam</td>\n",
       "      <td>8.1</td>\n",
       "      <td>2.8</td>\n",
       "      <td>58</td>\n",
       "      <td>Da Nang</td>\n",
       "    </tr>\n",
       "  </tbody>\n",
       "</table>\n",
       "</div>"
      ],
      "text/plain": [
       "   DESTINATIONS  SCORE OUT OF 10  AVG HOTEL STAR RATING  \\\n",
       "0    Costa Rica              9.6                    3.8   \n",
       "1         India              8.7                    3.2   \n",
       "2          Peru              8.2                    4.1   \n",
       "7     Sri Lanka              9.1                    3.6   \n",
       "8       Iceland              8.3                    4.2   \n",
       "13      Vietnam              8.1                    2.8   \n",
       "\n",
       "    NO. ALL INC HOTELS IN AREA MOST VISITED CITY IN DESTINATION  \n",
       "0                           19                     Puerto Lim�n  \n",
       "1                           82                             Agra  \n",
       "2                           36                         Arequipa  \n",
       "7                           39                     Polonnaruwa   \n",
       "8                            5                        Reykjavik  \n",
       "13                          58                          Da Nang  "
      ]
     },
     "execution_count": 87,
     "metadata": {},
     "output_type": "execute_result"
    }
   ],
   "source": [
    "# Filter the data by score above 8\n",
    "\n",
    "data = pd.read_csv(\"Holiday_Destinations.csv\")\n",
    "\n",
    "(data.loc[data[\"SCORE OUT OF 10\"] >  8])\n"
   ]
  },
  {
   "cell_type": "code",
   "execution_count": 137,
   "metadata": {},
   "outputs": [
    {
     "data": {
      "text/html": [
       "<div>\n",
       "<style scoped>\n",
       "    .dataframe tbody tr th:only-of-type {\n",
       "        vertical-align: middle;\n",
       "    }\n",
       "\n",
       "    .dataframe tbody tr th {\n",
       "        vertical-align: top;\n",
       "    }\n",
       "\n",
       "    .dataframe thead th {\n",
       "        text-align: right;\n",
       "    }\n",
       "</style>\n",
       "<table border=\"1\" class=\"dataframe\">\n",
       "  <thead>\n",
       "    <tr style=\"text-align: right;\">\n",
       "      <th></th>\n",
       "      <th>DESTINATIONS</th>\n",
       "      <th>SCORE OUT OF 10</th>\n",
       "      <th>AVG HOTEL STAR RATING</th>\n",
       "      <th>NO. ALL INC HOTELS IN AREA</th>\n",
       "      <th>MOST VISITED CITY IN DESTINATION</th>\n",
       "    </tr>\n",
       "  </thead>\n",
       "  <tbody>\n",
       "  </tbody>\n",
       "</table>\n",
       "</div>"
      ],
      "text/plain": [
       "Empty DataFrame\n",
       "Columns: [DESTINATIONS, SCORE OUT OF 10, AVG HOTEL STAR RATING, NO. ALL INC HOTELS IN AREA, MOST VISITED CITY IN DESTINATION]\n",
       "Index: []"
      ]
     },
     "execution_count": 137,
     "metadata": {},
     "output_type": "execute_result"
    }
   ],
   "source": [
    "# Filter the data score below 2 ( I need to know if these destinations should be removed or there is a problem)\n",
    "\n",
    "data = pd.read_csv(\"Holiday_Destinations.csv\")\n",
    "\n",
    "(data.loc[data[\"SCORE OUT OF 10\"] < 2])"
   ]
  },
  {
   "cell_type": "code",
   "execution_count": 141,
   "metadata": {},
   "outputs": [
    {
     "data": {
      "text/plain": [
       "<AxesSubplot:title={'center':'Scatter Plot Showing Correlation Between No. of All Inclusive Hotels and Customer Feedback Score'}, xlabel='SCORE OUT OF 10', ylabel='NO. ALL INC HOTELS IN AREA'>"
      ]
     },
     "execution_count": 141,
     "metadata": {},
     "output_type": "execute_result"
    },
    {
     "data": {
      "image/png": "[encoded data removed]",
      "text/plain": [
       "<Figure size 432x288 with 1 Axes>"
      ]
     },
     "metadata": {
      "needs_background": "light"
     },
     "output_type": "display_data"
    }
   ],
   "source": [
    "# Is there a correlation between number of all-inclusive hotels and score?\n",
    "\n",
    "data = pd.read_csv(\"Holiday_Destinations.csv\")\n",
    "data.plot.scatter(x=\"SCORE OUT OF 10\", y= \"NO. ALL INC HOTELS IN AREA\", title = \"Scatter Plot Showing Correlation Between No. of All Inclusive Hotels and Customer Feedback Score\")"
   ]
  },
  {
   "cell_type": "code",
   "execution_count": 139,
   "metadata": {},
   "outputs": [
    {
     "name": "stdout",
     "output_type": "stream",
     "text": [
      "The Pearson's correlation between the score out of 10 and  number of hotels in the area is:  0.11\n"
     ]
    }
   ],
   "source": [
    "# Is there a correlation between number of all-inclusive hotels and score?\n",
    "\n",
    "data = pd.read_csv(\"Holiday_Destinations.csv\")\n",
    "\n",
    "x = (data[\"SCORE OUT OF 10\"].corr(data[\"NO. ALL INC HOTELS IN AREA\"]).round(2))\n",
    "\n",
    "print (\"The Pearson's correlation between the score out of 10 and  number of hotels in the area is: \", x)"
   ]
  },
  {
   "cell_type": "code",
   "execution_count": 20,
   "metadata": {},
   "outputs": [
    {
     "data": {
      "text/html": [
       "<div>\n",
       "<style scoped>\n",
       "    .dataframe tbody tr th:only-of-type {\n",
       "        vertical-align: middle;\n",
       "    }\n",
       "\n",
       "    .dataframe tbody tr th {\n",
       "        vertical-align: top;\n",
       "    }\n",
       "\n",
       "    .dataframe thead th {\n",
       "        text-align: right;\n",
       "    }\n",
       "</style>\n",
       "<table border=\"1\" class=\"dataframe\">\n",
       "  <thead>\n",
       "    <tr style=\"text-align: right;\">\n",
       "      <th></th>\n",
       "      <th>SCORE OUT OF 10</th>\n",
       "      <th>AVG HOTEL STAR RATING</th>\n",
       "      <th>NO. ALL INC HOTELS IN AREA</th>\n",
       "    </tr>\n",
       "  </thead>\n",
       "  <tbody>\n",
       "    <tr>\n",
       "      <th>SCORE OUT OF 10</th>\n",
       "      <td>1.000000</td>\n",
       "      <td>-0.033455</td>\n",
       "      <td>0.114517</td>\n",
       "    </tr>\n",
       "    <tr>\n",
       "      <th>AVG HOTEL STAR RATING</th>\n",
       "      <td>-0.033455</td>\n",
       "      <td>1.000000</td>\n",
       "      <td>-0.405630</td>\n",
       "    </tr>\n",
       "    <tr>\n",
       "      <th>NO. ALL INC HOTELS IN AREA</th>\n",
       "      <td>0.114517</td>\n",
       "      <td>-0.405630</td>\n",
       "      <td>1.000000</td>\n",
       "    </tr>\n",
       "  </tbody>\n",
       "</table>\n",
       "</div>"
      ],
      "text/plain": [
       "                            SCORE OUT OF 10  AVG HOTEL STAR RATING  \\\n",
       "SCORE OUT OF 10                    1.000000              -0.033455   \n",
       "AVG HOTEL STAR RATING             -0.033455               1.000000   \n",
       "NO. ALL INC HOTELS IN AREA         0.114517              -0.405630   \n",
       "\n",
       "                            NO. ALL INC HOTELS IN AREA  \n",
       "SCORE OUT OF 10                               0.114517  \n",
       "AVG HOTEL STAR RATING                        -0.405630  \n",
       "NO. ALL INC HOTELS IN AREA                    1.000000  "
      ]
     },
     "execution_count": 20,
     "metadata": {},
     "output_type": "execute_result"
    }
   ],
   "source": [
    "data.corr(method='pearson')"
   ]
  },
  {
   "cell_type": "code",
   "execution_count": null,
   "metadata": {},
   "outputs": [],
   "source": []
  },
  {
   "cell_type": "code",
   "execution_count": 85,
   "metadata": {},
   "outputs": [
    {
     "data": {
      "text/plain": [
       "<AxesSubplot:title={'center':'Bar Chart Displaying Customer Feedback Scores'}, xlabel='DESTINATIONS'>"
      ]
     },
     "execution_count": 85,
     "metadata": {},
     "output_type": "execute_result"
    },
    {
     "data": {
      "image/png": "[encoded data removed]",
      "text/plain": [
       "<Figure size 432x288 with 1 Axes>"
      ]
     },
     "metadata": {
      "needs_background": "light"
     },
     "output_type": "display_data"
    }
   ],
   "source": [
    "\n",
    "data = pd.read_csv(\"Holiday_Destinations.csv\")\n",
    "\n",
    "data.plot.bar(title= 'Bar Chart Displaying Customer Feedback Scores', x='DESTINATIONS', y='SCORE OUT OF 10')"
   ]
  },
  {
   "cell_type": "code",
   "execution_count": 114,
   "metadata": {},
   "outputs": [
    {
     "data": {
      "text/plain": [
       "Text(0.5, 1.0, 'Bar Plot showing destination feedback scores from lowest to highest')"
      ]
     },
     "execution_count": 114,
     "metadata": {},
     "output_type": "execute_result"
    },
    {
     "data": {
      "image/png": "[encoded data removed]",
      "text/plain": [
       "<Figure size 1080x432 with 1 Axes>"
      ]
     },
     "metadata": {
      "needs_background": "light"
     },
     "output_type": "display_data"
    }
   ],
   "source": [
    "import matplotlib.pyplot as plt\n",
    "import seaborn as sns\n",
    "data = pd.read_csv(\"Holiday_Destinations.csv\")\n",
    "\n",
    "data_sort= data.sort_values('SCORE OUT OF 10')\n",
    "plt.figure(figsize=(15,6))\n",
    "plt.bar('DESTINATIONS', 'SCORE OUT OF 10', data=data_sort)\n",
    "plt.xlabel('DESTINATIONS',size=15)\n",
    "plt.ylabel('SCORE OUT OF 10', size=15)\n",
    "plt.title(\"Bar Plot showing destination feedback scores from lowest to highest\", size=15)\n"
   ]
  }
 ],
 "metadata": {
  "interpreter": {
   "hash": "2a769fa32120480d158589a5343b00a7b963cef6e8e11f8576bbabd8c23b0c6f"
  },
  "kernelspec": {
   "display_name": "Python 3.8.8 64-bit ('base': conda)",
   "name": "python3"
  },
  "language_info": {
   "codemirror_mode": {
    "name": "ipython",
    "version": 3
   },
   "file_extension": ".py",
   "mimetype": "text/x-python",
   "name": "python",
   "nbconvert_exporter": "python",
   "pygments_lexer": "ipython3",
   "version": "3.8.8"
  },
  "orig_nbformat": 4
 },
 "nbformat": 4,
 "nbformat_minor": 2
}
